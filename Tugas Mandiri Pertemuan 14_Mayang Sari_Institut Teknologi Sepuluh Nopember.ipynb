{
  "cells": [
    {
      "cell_type": "markdown",
      "metadata": {
        "id": "BFLP4je4BEuH"
      },
      "source": [
        "![header%20ipynb.png](attachment:header%20ipynb.png)"
      ]
    },
    {
      "cell_type": "markdown",
      "metadata": {
        "id": "pjeAbiDKBEuS"
      },
      "source": [
        "# Hands-On\n",
        "---\n",
        "\n",
        "Hands-On ini digunakan pada kegiatan Microcredential Associate Data Scientist 2021"
      ]
    },
    {
      "cell_type": "markdown",
      "metadata": {
        "id": "cJb2isUVBEuU"
      },
      "source": [
        "# Tugas Mandiri Pertemuan 14\n",
        "---\n",
        "Pertemuan 14 (empatbelas) pada Microcredential Associate Data Scientist 2021 menyampaikan materi mengenai Membangun Model (RNN dan LSTM). silakan Anda kerjakan Latihan 1 s/d 5. Output yang anda lihat merupakan panduan yang dapat Anda ikuti dalam penulisan code :)"
      ]
    },
    {
      "cell_type": "markdown",
      "metadata": {
        "id": "m7-0Jf4CBEuV"
      },
      "source": [
        "# RNN\n",
        "\n",
        "Jaringan saraf berulang atau recurrent neural network (RNN) adalah jenis arsitektur jaringan saraf tiruan yang pemrosesannya dipanggil berulang-ulang untuk memroses masukan yang biasanya adalah data sekuensial. RNN masuk dalam kategori deep learning karena data diproses melalui banyak lapis (layer). RNN telah mengalami kemajuan yang pesat dan telah merevolusi bidang-bidang seperti pemrosesan bahasa alami (NLP), pengenalan suara, sintesa musik, pemrosesan data finansial seri waktu, analisa deret DNA, analisa video, dan sebagainya.\n",
        "\n",
        "\n",
        "RNN memroses input secara sekuensial, sampel per sampel. Dalam tiap pemrosesan, output yang dihasilkan tidak hanya merupakan fungsi dari sampel itu saja, tapi juga berdasarkan state internal yang merupakan hasil dari pemrosesan sampel-sampel sebelumnya (atau setelahnya, pada bidirectional RNN).\n",
        "\n",
        "Berikut adalah ilustrasi bagaimana RNN bekerja. Misalnya kita membuat RNN untuk menerjemahkan bahasa Indonesia ke bahasa Inggris\n",
        "\n",
        "![image.png](attachment:image.png)\n",
        "\n",
        "Ilustrasi di atas kelihatan rumit, tapi sebenarnya cukup mudah dipahami.\n",
        "\n",
        "* sumbu horizontal adalah waktu, direpresentasikan dengan simbol t. Dapat kita bayangkan pemrosesan berjalan dari kiri ke kanan. Selanjutnya kita sebut t adalah langkah waktu (time step).\n",
        "\n",
        "* Keseluruhan input adalah kalimat, dalam hal ini:\n",
        "        Budi pergi ke sekolah.\n",
        "\n",
        "* Pemrosean input oleh RNN adalah kata demi kata. Input kata-kata ini disimbolkan dengan x1 ,x2 , … ,x5 , atau secara umum xt.\n",
        "\n",
        "* Output adalah kalimat, dalam hal ini:\n",
        "        Budi goes to school.\n",
        " \n",
        "* RNN memberikan output kata demi kata, dan ini kita simbolkan dengan ŷ1, ŷ2,  …, ŷ5 , atau secara umum ŷt .\n",
        "* Dalam tiap pemrosesan, RNN akan menyimpan state internal yaitu st, yang  diberikan dari satu langkah waktu ke langkah waktu berikutnya. Inilah “memori” dari RNN.\n",
        "\n",
        "Dengan contoh di atas, kita bisa generalisasikan arsitektur RNN sebagai berikut:\n",
        "\n",
        "![image-2.png](attachment:image-2.png)\n",
        "\n",
        "Tambahan yang tidak terdapat di diagram sebelumnya adalah U, V, dan W, yang merupakan parameter-parameter yang dimiliki RNN. Kita akan bahas pemakaian parameter-parameter ini nanti.\n",
        "\n",
        "Penting untuk dipahami bahwa walaupun ada empat kotak RNN di gambar di atas, empat kotak itu mencerminkan satu modul RNN yang sama (satu instans model dengan parameter-parameter U, V, dan W yang sama). Penggambaran di atas hanya agar aspek sekuensialnya lebih tergambar.\n",
        "\n",
        "Alternatif representasinya adalah seperti ini, agar lebih jelas bahwa hanya ada satu modul RNN:\n",
        "![image-3.png](attachment:image-3.png)\n",
        "\n",
        "Inilah sebabnya kenapa arsitektur ini disebut RNN. Kata recurrent (berulang) dalam RNN timbul karena RNN melakukan perhitungan yang sama secara berulang-ulang atas input yang kita berikan.\n",
        "\n",
        "Sering juga kedua ilustrasi di atas digabungkan jadi satu sbb:\n",
        "![image-4.png](attachment:image-4.png)\n",
        "Sesuai dengan gambar di atas, ilustrasi di sebelah kanan adalah penjabaran (unrolled) dari versi berulang di sebelah kiri."
      ]
    },
    {
      "cell_type": "markdown",
      "metadata": {
        "id": "WIgvia5_BEug"
      },
      "source": [
        "# Latihan (1)\n",
        "\n",
        "### Melakukan import library yang dibutuhkan"
      ]
    },
    {
      "cell_type": "code",
      "execution_count": 36,
      "metadata": {
        "_cell_guid": "b1076dfc-b9ad-4769-8c92-a6c4dae69d19",
        "_uuid": "8f2839f25d086af736a60e9eeb907d3b93b6e0e5",
        "id": "EtncDn45BEuh"
      },
      "outputs": [],
      "source": [
        "# import library pandas\n",
        "import pandas as pd\n",
        "# Import library numpy\n",
        "import numpy as np\n",
        "\n",
        "# Import library matplotlib untuk visualisasi\n",
        "import matplotlib.pyplot as plt\n",
        "\n",
        "# import library for build model \n",
        "from tensorflow.keras.models import Sequential\n",
        "from tensorflow.keras.layers import Dense, SimpleRNN, Dropout, LSTM\n",
        "\n",
        "# import library untuk data preprocessing\n",
        "from sklearn.preprocessing import MinMaxScaler\n",
        "from sklearn.metrics import r2_score\n",
        "# ........................"
      ]
    },
    {
      "cell_type": "markdown",
      "metadata": {
        "id": "48rT8pSaBEuo"
      },
      "source": [
        "### Load Dataset"
      ]
    },
    {
      "cell_type": "code",
      "source": [
        "!gdown --id 1XsYcW2yezQvpig13Pf56---DAjtJRqcf"
      ],
      "metadata": {
        "colab": {
          "base_uri": "https://localhost:8080/"
        },
        "id": "0YELSB0O7Agn",
        "outputId": "47822d07-60fc-43b5-83c7-83cf98a70571"
      },
      "execution_count": 37,
      "outputs": [
        {
          "output_type": "stream",
          "name": "stdout",
          "text": [
            "Downloading...\n",
            "From: https://drive.google.com/uc?id=1XsYcW2yezQvpig13Pf56---DAjtJRqcf\n",
            "To: /content/Stock.csv\n",
            "\r  0% 0.00/147k [00:00<?, ?B/s]\r100% 147k/147k [00:00<00:00, 54.7MB/s]\n"
          ]
        }
      ]
    },
    {
      "cell_type": "code",
      "execution_count": 38,
      "metadata": {
        "id": "nWGeT_YUBEup"
      },
      "outputs": [],
      "source": [
        "#Panggil file (load file bernama Stock.csv) dan simpan dalam dataframe\n",
        "dataset =\"Stock.csv\"\n",
        "data = pd.read_csv(dataset)"
      ]
    },
    {
      "cell_type": "code",
      "execution_count": 39,
      "metadata": {
        "colab": {
          "base_uri": "https://localhost:8080/",
          "height": 206
        },
        "id": "99lv3asABEuq",
        "outputId": "eb1ea31c-76ec-429f-bd52-0bd1175c3ba4"
      },
      "outputs": [
        {
          "output_type": "execute_result",
          "data": {
            "text/html": [
              "<div>\n",
              "<style scoped>\n",
              "    .dataframe tbody tr th:only-of-type {\n",
              "        vertical-align: middle;\n",
              "    }\n",
              "\n",
              "    .dataframe tbody tr th {\n",
              "        vertical-align: top;\n",
              "    }\n",
              "\n",
              "    .dataframe thead th {\n",
              "        text-align: right;\n",
              "    }\n",
              "</style>\n",
              "<table border=\"1\" class=\"dataframe\">\n",
              "  <thead>\n",
              "    <tr style=\"text-align: right;\">\n",
              "      <th></th>\n",
              "      <th>Date</th>\n",
              "      <th>Open</th>\n",
              "      <th>High</th>\n",
              "      <th>Low</th>\n",
              "      <th>Close</th>\n",
              "      <th>Volume</th>\n",
              "      <th>Name</th>\n",
              "    </tr>\n",
              "  </thead>\n",
              "  <tbody>\n",
              "    <tr>\n",
              "      <th>0</th>\n",
              "      <td>2006-01-03</td>\n",
              "      <td>56.45</td>\n",
              "      <td>56.66</td>\n",
              "      <td>55.46</td>\n",
              "      <td>56.53</td>\n",
              "      <td>3716500</td>\n",
              "      <td>UTX</td>\n",
              "    </tr>\n",
              "    <tr>\n",
              "      <th>1</th>\n",
              "      <td>2006-01-04</td>\n",
              "      <td>56.80</td>\n",
              "      <td>56.80</td>\n",
              "      <td>55.84</td>\n",
              "      <td>56.19</td>\n",
              "      <td>3114500</td>\n",
              "      <td>UTX</td>\n",
              "    </tr>\n",
              "    <tr>\n",
              "      <th>2</th>\n",
              "      <td>2006-01-05</td>\n",
              "      <td>56.30</td>\n",
              "      <td>56.49</td>\n",
              "      <td>55.63</td>\n",
              "      <td>55.98</td>\n",
              "      <td>3118900</td>\n",
              "      <td>UTX</td>\n",
              "    </tr>\n",
              "    <tr>\n",
              "      <th>3</th>\n",
              "      <td>2006-01-06</td>\n",
              "      <td>56.45</td>\n",
              "      <td>56.67</td>\n",
              "      <td>56.10</td>\n",
              "      <td>56.16</td>\n",
              "      <td>2874300</td>\n",
              "      <td>UTX</td>\n",
              "    </tr>\n",
              "    <tr>\n",
              "      <th>4</th>\n",
              "      <td>2006-01-09</td>\n",
              "      <td>56.37</td>\n",
              "      <td>56.90</td>\n",
              "      <td>56.16</td>\n",
              "      <td>56.80</td>\n",
              "      <td>2467200</td>\n",
              "      <td>UTX</td>\n",
              "    </tr>\n",
              "  </tbody>\n",
              "</table>\n",
              "</div>"
            ],
            "text/plain": [
              "         Date   Open   High    Low  Close   Volume Name\n",
              "0  2006-01-03  56.45  56.66  55.46  56.53  3716500  UTX\n",
              "1  2006-01-04  56.80  56.80  55.84  56.19  3114500  UTX\n",
              "2  2006-01-05  56.30  56.49  55.63  55.98  3118900  UTX\n",
              "3  2006-01-06  56.45  56.67  56.10  56.16  2874300  UTX\n",
              "4  2006-01-09  56.37  56.90  56.16  56.80  2467200  UTX"
            ]
          },
          "metadata": {},
          "execution_count": 39
        }
      ],
      "source": [
        "# tampilkan 5 baris data \n",
        "data.head()"
      ]
    },
    {
      "cell_type": "markdown",
      "metadata": {
        "id": "VpIpbp2cBEut"
      },
      "source": [
        "### Review Data"
      ]
    },
    {
      "cell_type": "code",
      "execution_count": 40,
      "metadata": {
        "_uuid": "f7be14868f30eaa55193cb7ad2674c72c447fa59",
        "colab": {
          "base_uri": "https://localhost:8080/"
        },
        "id": "Wq1uhR93BEuu",
        "outputId": "bb7b568f-499b-4d78-b4d3-93a78cb140c5"
      },
      "outputs": [
        {
          "output_type": "stream",
          "name": "stdout",
          "text": [
            "<class 'pandas.core.frame.DataFrame'>\n",
            "RangeIndex: 3020 entries, 0 to 3019\n",
            "Data columns (total 7 columns):\n",
            " #   Column  Non-Null Count  Dtype  \n",
            "---  ------  --------------  -----  \n",
            " 0   Date    3020 non-null   object \n",
            " 1   Open    3019 non-null   float64\n",
            " 2   High    3020 non-null   float64\n",
            " 3   Low     3020 non-null   float64\n",
            " 4   Close   3020 non-null   float64\n",
            " 5   Volume  3020 non-null   int64  \n",
            " 6   Name    3020 non-null   object \n",
            "dtypes: float64(4), int64(1), object(2)\n",
            "memory usage: 165.3+ KB\n"
          ]
        }
      ],
      "source": [
        "# Melihat Informasi lebih detail mengenai struktur DataFrame dapat dilihat menggunakan fungsi info()\n",
        "data.info()"
      ]
    },
    {
      "cell_type": "code",
      "execution_count": 41,
      "metadata": {
        "_uuid": "d1c7f3ee1eabccd4186e8046252a379ef7b5cefa",
        "id": "DU1mvo6EBEuu"
      },
      "outputs": [],
      "source": [
        "# Kolom 'low' yang akan kita gunakan dalam membangun model\n",
        "# Slice kolom 'low' \n",
        "\n",
        "Low_data = data.iloc[:,3:4].values"
      ]
    },
    {
      "cell_type": "code",
      "execution_count": 42,
      "metadata": {
        "_uuid": "3022aa336271cc887b9f29b142f7351c6840a123",
        "colab": {
          "base_uri": "https://localhost:8080/"
        },
        "id": "QBNbcxxqBEuw",
        "outputId": "909407fe-4172-44dc-a95f-52eb0b318274"
      },
      "outputs": [
        {
          "output_type": "execute_result",
          "data": {
            "text/plain": [
              "array([[ 55.46],\n",
              "       [ 55.84],\n",
              "       [ 55.63],\n",
              "       ...,\n",
              "       [126.92],\n",
              "       [127.29],\n",
              "       [127.57]])"
            ]
          },
          "metadata": {},
          "execution_count": 42
        }
      ],
      "source": [
        "# cek output low_data\n",
        "Low_data           "
      ]
    },
    {
      "cell_type": "code",
      "execution_count": 43,
      "metadata": {
        "_uuid": "0fba437dbe916d38aa29f7e3b8d3c0058e72cd6f",
        "colab": {
          "base_uri": "https://localhost:8080/",
          "height": 628
        },
        "id": "eju6jwZFBEuw",
        "outputId": "71248ec9-65cd-4c18-e5eb-3f60d1b29fb8"
      },
      "outputs": [
        {
          "output_type": "display_data",
          "data": {
            "image/png": "[encoded data removed]",
            "text/plain": [
              "<Figure size 1008x720 with 1 Axes>"
            ]
          },
          "metadata": {
            "needs_background": "light"
          }
        }
      ],
      "source": [
        "# Visualizing low_data\n",
        "\n",
        "plt.figure(figsize=(14,10))                 \n",
        "plt.plot(Low_data,c=\"red\")\n",
        "plt.title(\"Microsoft Stock Prices\",fontsize=16)\n",
        "plt.xlabel(\"Days\",fontsize=16)\n",
        "plt.ylabel(\"Scaled Price\",fontsize=16)\n",
        "plt.grid()\n",
        "plt.show()"
      ]
    },
    {
      "cell_type": "markdown",
      "metadata": {
        "_uuid": "0ed6338b04615f1c9b8aee0c017a21c5f6c9f44e",
        "id": "oCrWjThlBEu0"
      },
      "source": [
        "# Latihan (2)\n",
        "\n",
        "###  Data Preprocessing"
      ]
    },
    {
      "cell_type": "code",
      "execution_count": 44,
      "metadata": {
        "_uuid": "77340783a8ce9d6b1a7bd66eb0adf38fb8dea48b",
        "id": "7FQvjuJnBEu1"
      },
      "outputs": [],
      "source": [
        "# Menskalakan data antara 1 dan 0 (scaling) pada low data\n",
        "\n",
        "scaler = MinMaxScaler()           \n",
        "Low_data = scaler.fit_transform(Low_data)"
      ]
    },
    {
      "cell_type": "code",
      "execution_count": 45,
      "metadata": {
        "_uuid": "47988513e859e73a34e041fa5131518451fac658",
        "id": "kPxXk_CJBEu1"
      },
      "outputs": [],
      "source": [
        "# definisikan variabel step dan train \n",
        "\n",
        "step = 21            \n",
        "\n",
        "train_x = []\n",
        "train_y = []"
      ]
    },
    {
      "cell_type": "code",
      "execution_count": 46,
      "metadata": {
        "_uuid": "5b23b8ae7d949d774e89d3c9c4115a941737b5ea",
        "id": "Os6HoigTBEu2"
      },
      "outputs": [],
      "source": [
        "# membuat fitur dan lists label\n",
        "\n",
        "for i in range(step, 3019):             \n",
        "    train_x.append(Low_data[i-step:i,0])\n",
        "    train_y.append(Low_data[i,0])"
      ]
    },
    {
      "cell_type": "code",
      "execution_count": 47,
      "metadata": {
        "_uuid": "7afe032f495d63420e151b189c323b91e6fe76d4",
        "id": "bXZkoaKvBEu2"
      },
      "outputs": [],
      "source": [
        "# mengonversi list yang telah dibuat sebelumnya ke array\n",
        "\n",
        "train_x = np.array(train_x)                   \n",
        "train_y = np.array(train_y)"
      ]
    },
    {
      "cell_type": "code",
      "execution_count": 48,
      "metadata": {
        "_uuid": "c5c05709eb62cd77d0b023ce9c2d4cc9d69bcdcf",
        "id": "RDOPJYakBEu3",
        "outputId": "c98169b7-5bce-4d3c-fe9a-f22d0fb6d39f",
        "colab": {
          "base_uri": "https://localhost:8080/"
        }
      },
      "outputs": [
        {
          "output_type": "execute_result",
          "data": {
            "text/plain": [
              "(2998, 21)"
            ]
          },
          "metadata": {},
          "execution_count": 48
        }
      ],
      "source": [
        "# cek dimensi data dengan function .shape\n",
        "\n",
        "train_x.shape                            "
      ]
    },
    {
      "cell_type": "code",
      "execution_count": 49,
      "metadata": {
        "_uuid": "dfcc9188e7c1329d9f2c10e5d72ea40f4e168802",
        "id": "qBeNgZGWBEu4"
      },
      "outputs": [],
      "source": [
        "# 498 hari terakhir akan digunakan dalam pengujian\n",
        "# 2500 hari pertama akan digunakan dalam pelatihan\n",
        "\n",
        "test_x = train_x[2500:]           \n",
        "train_x = train_x[:2500]          \n",
        "test_y = train_y[2500:]  \n",
        "train_y = train_y[:2500]"
      ]
    },
    {
      "cell_type": "code",
      "execution_count": 50,
      "metadata": {
        "_uuid": "75911a4fb246652ef811a6bc967e2de45ec56bbb",
        "id": "uDjtQnw6BEu4"
      },
      "outputs": [],
      "source": [
        "# reshape data untuk dimasukkan kedalam Keras model\n",
        "\n",
        "train_x = np.reshape(train_x, (2500, step, 1))        \n",
        "test_x = np.reshape(test_x, (498, step, 1))"
      ]
    },
    {
      "cell_type": "code",
      "execution_count": 51,
      "metadata": {
        "_uuid": "39807a2261f198b8ad0e1b15f7d277bac14fbe79",
        "id": "bG4Qt7rPBEu5",
        "outputId": "e9bb212c-3c19-4d36-b690-86dfe1d21eae",
        "colab": {
          "base_uri": "https://localhost:8080/"
        }
      },
      "outputs": [
        {
          "output_type": "stream",
          "name": "stdout",
          "text": [
            "(2500, 21, 1)\n",
            "(498, 21, 1)\n"
          ]
        }
      ],
      "source": [
        "# cek kembali dimensi data yang telah di reshape dengan function .shape\n",
        "\n",
        "print(train_x.shape) \n",
        "print(test_x.shape)                           "
      ]
    },
    {
      "cell_type": "markdown",
      "metadata": {
        "_uuid": "36ce211bae2ce73bb74f9c68bebd8341bfa4dcaa",
        "id": "DFpYdutmBEu6"
      },
      "source": [
        "Sekarang kita bisa mulai membuat model kita, dimulai dengan RNN"
      ]
    },
    {
      "cell_type": "markdown",
      "metadata": {
        "_uuid": "0ed6338b04615f1c9b8aee0c017a21c5f6c9f44e",
        "id": "xNWgTF24BEu6"
      },
      "source": [
        "# Latihan (3)\n",
        "\n",
        "###  Build Model - RNN"
      ]
    },
    {
      "cell_type": "code",
      "execution_count": 52,
      "metadata": {
        "_uuid": "7c537bd5662768a89af0ca153cc873dffe3c357f",
        "id": "NmHn8zY9BEu6"
      },
      "outputs": [],
      "source": [
        "# buat varibel penampung model RNN\n",
        "rnn_model = Sequential()"
      ]
    },
    {
      "cell_type": "code",
      "execution_count": 53,
      "metadata": {
        "_uuid": "b8d82124786360d2839b63165fb242921d93f8a1",
        "id": "FOMFPOqfBEu7"
      },
      "outputs": [],
      "source": [
        "# Output dari SimpleRNN akan menjadi bentuk tensor 2D (batch_size, 40) dengan Dropout sebesar 0.15\n",
        "\n",
        "rnn_model.add(SimpleRNN(40, activation=\"tanh\", return_sequences=True, input_shape=(train_x.shape[1],1)))\n",
        "rnn_model.add(Dropout(0.15))\n",
        "\n",
        "rnn_model.add(SimpleRNN(40, activation=\"tanh\", return_sequences=True))\n",
        "rnn_model.add(Dropout(0.15))\n",
        "\n",
        "rnn_model.add(SimpleRNN(40, activation=\"tanh\", return_sequences=False))\n",
        "rnn_model.add(Dropout(0.15))\n",
        "# Add a Dense layer with 1 units.\n",
        "rnn_model.add(Dense(1))"
      ]
    },
    {
      "cell_type": "code",
      "execution_count": 54,
      "metadata": {
        "_uuid": "e6bfdf03b0efa3c44f001b9f3861de965c8461a8",
        "id": "o6jwrCNgBEu8"
      },
      "outputs": [],
      "source": [
        "# menambahkan loss function kedalam model RNN dengan tipe MSE\n",
        "\n",
        "rnn_model.compile(optimizer='adam', loss='MSE')"
      ]
    },
    {
      "cell_type": "code",
      "execution_count": 55,
      "metadata": {
        "_uuid": "44d96eb8a0fa58ecfa5d17df71306006b254ad12",
        "id": "TSFXiG96BEu8",
        "outputId": "b5d74ae4-48d8-4948-bff0-8bf0ff996588",
        "colab": {
          "base_uri": "https://localhost:8080/"
        }
      },
      "outputs": [
        {
          "output_type": "stream",
          "name": "stdout",
          "text": [
            "Epoch 1/20\n",
            "100/100 [==============================] - 4s 14ms/step - loss: 0.1233\n",
            "Epoch 2/20\n",
            "100/100 [==============================] - 2s 15ms/step - loss: 0.0401\n",
            "Epoch 3/20\n",
            "100/100 [==============================] - 1s 14ms/step - loss: 0.0255\n",
            "Epoch 4/20\n",
            "100/100 [==============================] - 1s 14ms/step - loss: 0.0178\n",
            "Epoch 5/20\n",
            "100/100 [==============================] - 1s 14ms/step - loss: 0.0138\n",
            "Epoch 6/20\n",
            "100/100 [==============================] - 1s 14ms/step - loss: 0.0103\n",
            "Epoch 7/20\n",
            "100/100 [==============================] - 1s 14ms/step - loss: 0.0084\n",
            "Epoch 8/20\n",
            "100/100 [==============================] - 1s 14ms/step - loss: 0.0071\n",
            "Epoch 9/20\n",
            "100/100 [==============================] - 1s 14ms/step - loss: 0.0069\n",
            "Epoch 10/20\n",
            "100/100 [==============================] - 1s 14ms/step - loss: 0.0060\n",
            "Epoch 11/20\n",
            "100/100 [==============================] - 1s 14ms/step - loss: 0.0054\n",
            "Epoch 12/20\n",
            "100/100 [==============================] - 1s 14ms/step - loss: 0.0049\n",
            "Epoch 13/20\n",
            "100/100 [==============================] - 1s 14ms/step - loss: 0.0043\n",
            "Epoch 14/20\n",
            "100/100 [==============================] - 1s 14ms/step - loss: 0.0042\n",
            "Epoch 15/20\n",
            "100/100 [==============================] - 1s 14ms/step - loss: 0.0039\n",
            "Epoch 16/20\n",
            "100/100 [==============================] - 1s 14ms/step - loss: 0.0033\n",
            "Epoch 17/20\n",
            "100/100 [==============================] - 1s 15ms/step - loss: 0.0034\n",
            "Epoch 18/20\n",
            "100/100 [==============================] - 1s 14ms/step - loss: 0.0032\n",
            "Epoch 19/20\n",
            "100/100 [==============================] - 1s 14ms/step - loss: 0.0029\n",
            "Epoch 20/20\n",
            "100/100 [==============================] - 1s 14ms/step - loss: 0.0028\n"
          ]
        },
        {
          "output_type": "execute_result",
          "data": {
            "text/plain": [
              "<keras.callbacks.History at 0x7f5270bc8a10>"
            ]
          },
          "metadata": {},
          "execution_count": 55
        }
      ],
      "source": [
        "# fit the model RNN, dengan epoch 20 dan batch size 25\n",
        "\n",
        "rnn_model.fit(train_x, train_y, epochs=20, batch_size=25)"
      ]
    },
    {
      "cell_type": "code",
      "execution_count": 56,
      "metadata": {
        "_uuid": "da7338ba384e18f235cd083bd9602c848e7ec8cb",
        "id": "nS3EOl0-BEu9"
      },
      "outputs": [],
      "source": [
        "# Prediksi Model RNN\n",
        "rnn_predict = rnn_model.predict(test_x)\n",
        "\n",
        "rnn_score = r2_score(test_y, rnn_predict)"
      ]
    },
    {
      "cell_type": "code",
      "execution_count": 57,
      "metadata": {
        "scrolled": true,
        "id": "FYOzqIlFBEvE",
        "outputId": "497d4eb6-a415-4bff-f8cd-dfba83154af1",
        "colab": {
          "base_uri": "https://localhost:8080/"
        }
      },
      "outputs": [
        {
          "output_type": "execute_result",
          "data": {
            "text/plain": [
              "0.9444670702302971"
            ]
          },
          "metadata": {},
          "execution_count": 57
        }
      ],
      "source": [
        "rnn_score"
      ]
    },
    {
      "cell_type": "markdown",
      "metadata": {
        "_uuid": "0ed6338b04615f1c9b8aee0c017a21c5f6c9f44e",
        "id": "2ssl37wLBEvF"
      },
      "source": [
        "# Latihan (4)\n",
        "\n",
        "###  Build Model - LSTM"
      ]
    },
    {
      "cell_type": "code",
      "execution_count": 58,
      "metadata": {
        "_uuid": "b0281b303bd5e032c2115cdf9d6c184908f9bd03",
        "id": "RbbowQq1BEvF"
      },
      "outputs": [],
      "source": [
        "# buat varibel penampung model LSTM\n",
        "lstm_model = Sequential()"
      ]
    },
    {
      "cell_type": "code",
      "execution_count": 59,
      "metadata": {
        "_uuid": "fcb29b0dffb87ef05bc4b1c7ce2c03e9fc166770",
        "id": "w7dU2ULHBEvG"
      },
      "outputs": [],
      "source": [
        "# Add a LSTM layer with 40 internal units. dengan Dropout sebesar 0.15\n",
        "\n",
        "\n",
        "lstm_model.add(LSTM(40, activation=\"tanh\", return_sequences=True, input_shape=(train_x.shape[1],1)))\n",
        "lstm_model.add(Dropout(0.15))\n",
        "\n",
        "lstm_model.add(LSTM(40, activation=\"tanh\", return_sequences=True))\n",
        "lstm_model.add(Dropout(0.15))\n",
        "\n",
        "lstm_model.add(LSTM(40, activation=\"tanh\", return_sequences=False))\n",
        "lstm_model.add(Dropout(0.15))\n",
        "# Add a Dense layer with 1 units.\n",
        "lstm_model.add(Dense(1))"
      ]
    },
    {
      "cell_type": "code",
      "execution_count": 61,
      "metadata": {
        "_uuid": "d9db1d5c8f05a80cedc9b603b518760266ce6776",
        "id": "rt5f1oowBEvG"
      },
      "outputs": [],
      "source": [
        "# menambahkan loss function kedalam model lstm dengan tipe MSE\n",
        "\n",
        "lstm_model.compile(optimizer='adam', loss='MSE')"
      ]
    },
    {
      "cell_type": "code",
      "execution_count": 62,
      "metadata": {
        "_uuid": "605f71e78831cbef65aef8638670a4fa95b77e85",
        "id": "ljVq26rmBEvH",
        "outputId": "8fd1e79c-e445-40ef-8f3d-06205223f646",
        "colab": {
          "base_uri": "https://localhost:8080/"
        }
      },
      "outputs": [
        {
          "output_type": "stream",
          "name": "stdout",
          "text": [
            "Epoch 1/20\n",
            "100/100 [==============================] - 7s 24ms/step - loss: 0.0130\n",
            "Epoch 2/20\n",
            "100/100 [==============================] - 2s 24ms/step - loss: 0.0031\n",
            "Epoch 3/20\n",
            "100/100 [==============================] - 2s 24ms/step - loss: 0.0031\n",
            "Epoch 4/20\n",
            "100/100 [==============================] - 2s 25ms/step - loss: 0.0028\n",
            "Epoch 5/20\n",
            "100/100 [==============================] - 2s 24ms/step - loss: 0.0026\n",
            "Epoch 6/20\n",
            "100/100 [==============================] - 2s 24ms/step - loss: 0.0023\n",
            "Epoch 7/20\n",
            "100/100 [==============================] - 2s 25ms/step - loss: 0.0026\n",
            "Epoch 8/20\n",
            "100/100 [==============================] - 2s 24ms/step - loss: 0.0024\n",
            "Epoch 9/20\n",
            "100/100 [==============================] - 2s 24ms/step - loss: 0.0021\n",
            "Epoch 10/20\n",
            "100/100 [==============================] - 2s 24ms/step - loss: 0.0021\n",
            "Epoch 11/20\n",
            "100/100 [==============================] - 2s 24ms/step - loss: 0.0020\n",
            "Epoch 12/20\n",
            "100/100 [==============================] - 2s 23ms/step - loss: 0.0021\n",
            "Epoch 13/20\n",
            "100/100 [==============================] - 2s 24ms/step - loss: 0.0019\n",
            "Epoch 14/20\n",
            "100/100 [==============================] - 2s 24ms/step - loss: 0.0018\n",
            "Epoch 15/20\n",
            "100/100 [==============================] - 2s 24ms/step - loss: 0.0017\n",
            "Epoch 16/20\n",
            "100/100 [==============================] - 2s 24ms/step - loss: 0.0020\n",
            "Epoch 17/20\n",
            "100/100 [==============================] - 2s 24ms/step - loss: 0.0017\n",
            "Epoch 18/20\n",
            "100/100 [==============================] - 2s 24ms/step - loss: 0.0017\n",
            "Epoch 19/20\n",
            "100/100 [==============================] - 2s 23ms/step - loss: 0.0015\n",
            "Epoch 20/20\n",
            "100/100 [==============================] - 2s 24ms/step - loss: 0.0016\n"
          ]
        },
        {
          "output_type": "execute_result",
          "data": {
            "text/plain": [
              "<keras.callbacks.History at 0x7f527055d5d0>"
            ]
          },
          "metadata": {},
          "execution_count": 62
        }
      ],
      "source": [
        "# fit lstm model, dengan epoch 20 dan batch size 25\n",
        "lstm_model.fit(train_x, train_y, epochs=20, batch_size=25)"
      ]
    },
    {
      "cell_type": "code",
      "execution_count": 64,
      "metadata": {
        "_uuid": "411eafbf6eb7f155f10461be59d6ab371893e62f",
        "id": "TgwG3CpDBEvI"
      },
      "outputs": [],
      "source": [
        "# Prediksi Model LSTM\n",
        "lstm_predict = lstm_model.predict(test_x)\n",
        "lstm_score = r2_score(test_y, lstm_predict)"
      ]
    },
    {
      "cell_type": "code",
      "execution_count": 65,
      "metadata": {
        "_uuid": "6940c2d59c0762be788df610509d5b73373e38a0",
        "scrolled": true,
        "id": "Z83ajWIIBEvJ",
        "outputId": "ed10769e-3d0d-4167-9a6a-9b493821f41b",
        "colab": {
          "base_uri": "https://localhost:8080/"
        }
      },
      "outputs": [
        {
          "output_type": "execute_result",
          "data": {
            "text/plain": [
              "0.9421665760738951"
            ]
          },
          "metadata": {},
          "execution_count": 65
        }
      ],
      "source": [
        "lstm_score"
      ]
    },
    {
      "cell_type": "markdown",
      "metadata": {
        "_uuid": "0ed6338b04615f1c9b8aee0c017a21c5f6c9f44e",
        "id": "CtaWL-FIBEvJ"
      },
      "source": [
        "# Latihan (5)\n",
        "\n",
        "### Evaluation"
      ]
    },
    {
      "cell_type": "code",
      "execution_count": 66,
      "metadata": {
        "_uuid": "1e2dcc7ce554b96eeefe27b7a34e1194351b54f3",
        "id": "ZF7nKy6PBEvK",
        "outputId": "879857b4-e241-4998-eb9e-539ca0018ab8",
        "colab": {
          "base_uri": "https://localhost:8080/"
        }
      },
      "outputs": [
        {
          "output_type": "stream",
          "name": "stdout",
          "text": [
            "r^2 Score for RNN :  0.9444670702302971\n",
            "r^2 Score for LSTM :  0.9421665760738951\n"
          ]
        }
      ],
      "source": [
        "# Cetak nilai prediksi masing-masing model dengan menggunakan r^2 square\n",
        "\n",
        "print(\"r^2 Score for RNN : \", rnn_score)\n",
        "print(\"r^2 Score for LSTM : \", lstm_score)"
      ]
    },
    {
      "cell_type": "markdown",
      "metadata": {
        "id": "VX6mliooBEvK"
      },
      "source": [
        "### Visualisasi Perbandingan Hasil Model prediksi dengan data original "
      ]
    },
    {
      "cell_type": "code",
      "execution_count": 67,
      "metadata": {
        "_uuid": "feeb5905d3e1767d3d4cd93e4ce834d6f89e98fc",
        "id": "aB0DLsJoBEvL"
      },
      "outputs": [],
      "source": [
        "lstm_predict = scaler.inverse_transform(lstm_predict)\n",
        "rnn_predict = scaler.inverse_transform(rnn_predict)\n",
        "test_y = scaler.inverse_transform(test_y.reshape(-1,1))"
      ]
    },
    {
      "cell_type": "code",
      "execution_count": 68,
      "metadata": {
        "_uuid": "e9cf7c92445b1ec84e7597139cf49770b8282924",
        "id": "8sqj0KZ3BEvL",
        "outputId": "b148697f-f3e4-451f-eef6-707105f8e734",
        "colab": {
          "base_uri": "https://localhost:8080/",
          "height": 721
        }
      },
      "outputs": [
        {
          "output_type": "display_data",
          "data": {
            "image/png": "[encoded data removed]",
            "text/plain": [
              "<Figure size 1152x864 with 1 Axes>"
            ]
          },
          "metadata": {
            "needs_background": "light"
          }
        }
      ],
      "source": [
        "plt.figure(figsize=(16,12))\n",
        "\n",
        "plt.plot(test_y, c=\"blue\",linewidth=2, label=\"original\")\n",
        "plt.plot(lstm_predict, c=\"green\",linewidth=2, label=\"LSTM\")\n",
        "plt.plot(rnn_predict, c=\"red\",linewidth=2, label=\"RNN\")\n",
        "plt.legend()\n",
        "plt.title(\"PERBANDINGAN\",fontsize=20)\n",
        "plt.grid()\n",
        "plt.show()"
      ]
    },
    {
      "cell_type": "markdown",
      "metadata": {
        "_uuid": "4d17d70b478ab4281e931edfdf258db7f727efa5",
        "id": "lZxVoNdBBEvL"
      },
      "source": [
        "## Berikan Kesimpulan Anda!"
      ]
    },
    {
      "cell_type": "code",
      "execution_count": 69,
      "metadata": {
        "_uuid": "80048aaf1eba053202fd8972548c3f0ce57bd360",
        "id": "rEC0Z9OqBEvM"
      },
      "outputs": [],
      "source": [
        "# write here\n",
        "# Perbandingan hasil Score R^2 dari RNN dan LSTM : \n",
        "# RNN memiliki hasil prediksi yang lebih tinggi daripada LSTM \n",
        "# dengan skor RNN: 0.944, LSTM : 0.942 "
      ]
    }
  ],
  "metadata": {
    "kernelspec": {
      "display_name": "Python 3",
      "language": "python",
      "name": "python3"
    },
    "language_info": {
      "codemirror_mode": {
        "name": "ipython",
        "version": 3
      },
      "file_extension": ".py",
      "mimetype": "text/x-python",
      "name": "python",
      "nbconvert_exporter": "python",
      "pygments_lexer": "ipython3",
      "version": "3.8.8"
    },
    "colab": {
      "name": "[SOAL] Pertemuan 14_Tugas Mandiri.ipynb",
      "provenance": [],
      "collapsed_sections": [
        "VX6mliooBEvK"
      ]
    }
  },
  "nbformat": 4,
  "nbformat_minor": 0
}