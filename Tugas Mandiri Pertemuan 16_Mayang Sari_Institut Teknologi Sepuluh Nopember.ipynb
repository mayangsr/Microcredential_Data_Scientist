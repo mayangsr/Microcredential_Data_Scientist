{
  "cells": [
    {
      "cell_type": "markdown",
      "metadata": {
        "id": "pO2_D9jtmHAA"
      },
      "source": [
        "![header%20ipynb.png](attachment:header%20ipynb.png)"
      ]
    },
    {
      "cell_type": "markdown",
      "metadata": {
        "id": "u_3o_ZjKmHAr"
      },
      "source": [
        "# Hands-On\n",
        "---\n",
        "\n",
        "Hands-On ini digunakan pada kegiatan Microcredential Associate Data Scientist 2021"
      ]
    },
    {
      "cell_type": "markdown",
      "metadata": {
        "id": "Yx5OacrfmHAs"
      },
      "source": [
        "# Tugas Mandiri Pertemuan 16\n",
        "---\n",
        "Pertemuan 16 (enambelas) pada Microcredential Associate Data Scientist 2021 menyampaikan materi mengenai Membangun model: Evaluasi. silakan Anda kerjakan Latihan 1 s/d 5. Output yang anda lihat merupakan panduan yang dapat Anda ikuti dalam penulisan code :)"
      ]
    },
    {
      "cell_type": "markdown",
      "metadata": {
        "id": "PrQVcF-ldGWQ"
      },
      "source": [
        "<h1> Soal 1: Pemahaman Tentang Model Evaluasi</h1>\n",
        "\n",
        "Jawab pertanyaan di bawah ini dengan bahasa masing-masing?\n",
        "\n",
        "1. Apa perbedaan antara data latih, data validasi, dan data test?\n",
        "2. Bagaimana cara kita menilai performa suatu model?\n",
        "3. Apa itu Confusion Matrix? Jelaskan secara lengkap!\n",
        "4. Apa itu Classification Report dari sklearn?"
      ]
    },
    {
      "cell_type": "markdown",
      "metadata": {
        "id": "sr6D5UIhgpwO"
      },
      "source": [
        "\n",
        " <p style=\"color:#FF0000\">Jawab:</p>\n",
        "  \n",
        "  1. Data Latih : data yang digunakan untuk training/latih model\n",
        "   Data Validasi : data yang digunakan untuk proses validasi model dan mencegah overfitting\n",
        "   Data test : data yang digunakan untuk testing model atau sebagai simulasi penggunaan model\n",
        "\n",
        "2. Dengan cara menghitung akurasi model yang rumusnya prediksivalid dibagi banyaknya percobaan dikali 100%, atau bisa juga menggunakan Confusion Matrix\n",
        "\n",
        "3. Confusion matrix sering disebut sebagai error matrix. Pada dasarnya confusion matrix memberikan informasi perbandingan hasil klasifikasi yang dilakukan oleh model dengan hasil klasifikasi sebenarnya.Confusion matrix berbentuk tabel matriks yang menggambarkan kinerja model klasifikasi pada serangkaian data uji yang nilai sebenarnya diketahui.Karakteristiknya dianatar lain: \n",
        "• Ada sumbu data aktual dan sumbu data prediksi (gunakan konvensi)\n",
        "• Setiap kelas terpetakan satu sama lainnya\n",
        "• Percobaan valid berada pada diagonal utama \n",
        "• Matriks berbentuk bujur sangkar\n",
        "\n",
        "4. Classification Report adalah evaluation metric yang digunakan untuk menunjukkan atau menampilkan  presisi, daya ingat, Skor F1, dan skor dukungan dari model klasifikasi terlatih\n",
        "\n"
      ]
    },
    {
      "cell_type": "markdown",
      "metadata": {
        "id": "uY-s7-KDgrkV"
      },
      "source": [
        "---"
      ]
    },
    {
      "cell_type": "markdown",
      "metadata": {
        "id": "Fv2TVsgAdGWY"
      },
      "source": [
        "<h1>Soal 2: Aplikasi Model Evaluasi</h1>\n",
        "\n",
        "Kali ini kita akan menggunakan data untuk memprediksi kelangsungan hidup pasien yang telah mengalami operasi payudara. Dengan informasi yang dimiliki terkait pasien, kita akan membuat model untuk memprediksi apakah pasien akan bertahan hidup dalam waktu lebih dari 5 tahun atau tidak.\n",
        "\n",
        "Lebih Lengkapnya kalian bisa membaca informasi tentang dataset di link berikut: https://raw.githubusercontent.com/jbrownlee/Datasets/master/haberman.names\n",
        "\n",
        "Buat model Klasifikasi (Model/Algoritma Bebas) untuk memprediksi status pasien dengan ketentuan sebagai berikut:\n",
        "\n",
        "1. Bagi kedua data ini menjadi data training dan data test dengan test_size=0.25.\n",
        "3. Pelajar tentang metrics roc_auc_score kemudian buatlah model dan evaluasi dengan menggunakan teknik cross-validation dengan scoring 'roc_auc'. Baca https://scikit-learn.org/stable/modules/generated/sklearn.model_selection.cross_val_score.html untuk menggunakan metric roc_auc saat cross-validation.\n",
        "3. Berapa score rata2 dari model dengan teknik cross-validation tersebut?\n",
        "4. Prediksi data test dengan model yang telah kalian buat!\n",
        "5. Bagaimana hasil confusion matrix dari hasil prediksi tersebut?\n",
        "6. Bagaimana classification report dari hasil prediksi tersebut?\n",
        "5. Seberapa baik model anda dalam memprediksi seorang pasien mempunyai status positive?\n",
        "6. Seberapa baik model anda dalam memprediksi seorang pasien mempunyai status negatif?"
      ]
    },
    {
      "cell_type": "markdown",
      "metadata": {
        "id": "L9SefKGDmHAz"
      },
      "source": [
        "### Load Dataset "
      ]
    },
    {
      "cell_type": "code",
      "execution_count": 1,
      "metadata": {
        "id": "l_zK8Mqb-9Z6"
      },
      "outputs": [],
      "source": [
        "# import library pandas\n",
        "import pandas as pd\n",
        "\n",
        "# Load Dataset\n",
        "url = 'https://raw.githubusercontent.com/jbrownlee/Datasets/master/haberman.csv'\n",
        "list_cols = ['Age', \"Patient's Years\", \"N_positive_ax\", \"survival_status\"]\n",
        "df = pd.read_csv(url, names=list_cols)"
      ]
    },
    {
      "cell_type": "code",
      "execution_count": 2,
      "metadata": {
        "colab": {
          "base_uri": "https://localhost:8080/",
          "height": 206
        },
        "id": "YrbPNGtHdGXV",
        "outputId": "11e981ad-f051-441e-b11b-beecc36b410b"
      },
      "outputs": [
        {
          "output_type": "execute_result",
          "data": {
            "text/html": [
              "\n",
              "  <div id=\"df-34628f84-f62a-4ed6-8f4d-60b71b2793ec\">\n",
              "    <div class=\"colab-df-container\">\n",
              "      <div>\n",
              "<style scoped>\n",
              "    .dataframe tbody tr th:only-of-type {\n",
              "        vertical-align: middle;\n",
              "    }\n",
              "\n",
              "    .dataframe tbody tr th {\n",
              "        vertical-align: top;\n",
              "    }\n",
              "\n",
              "    .dataframe thead th {\n",
              "        text-align: right;\n",
              "    }\n",
              "</style>\n",
              "<table border=\"1\" class=\"dataframe\">\n",
              "  <thead>\n",
              "    <tr style=\"text-align: right;\">\n",
              "      <th></th>\n",
              "      <th>Age</th>\n",
              "      <th>Patient's Years</th>\n",
              "      <th>N_positive_ax</th>\n",
              "      <th>survival_status</th>\n",
              "    </tr>\n",
              "  </thead>\n",
              "  <tbody>\n",
              "    <tr>\n",
              "      <th>0</th>\n",
              "      <td>30</td>\n",
              "      <td>64</td>\n",
              "      <td>1</td>\n",
              "      <td>1</td>\n",
              "    </tr>\n",
              "    <tr>\n",
              "      <th>1</th>\n",
              "      <td>30</td>\n",
              "      <td>62</td>\n",
              "      <td>3</td>\n",
              "      <td>1</td>\n",
              "    </tr>\n",
              "    <tr>\n",
              "      <th>2</th>\n",
              "      <td>30</td>\n",
              "      <td>65</td>\n",
              "      <td>0</td>\n",
              "      <td>1</td>\n",
              "    </tr>\n",
              "    <tr>\n",
              "      <th>3</th>\n",
              "      <td>31</td>\n",
              "      <td>59</td>\n",
              "      <td>2</td>\n",
              "      <td>1</td>\n",
              "    </tr>\n",
              "    <tr>\n",
              "      <th>4</th>\n",
              "      <td>31</td>\n",
              "      <td>65</td>\n",
              "      <td>4</td>\n",
              "      <td>1</td>\n",
              "    </tr>\n",
              "  </tbody>\n",
              "</table>\n",
              "</div>\n",
              "      <button class=\"colab-df-convert\" onclick=\"convertToInteractive('df-34628f84-f62a-4ed6-8f4d-60b71b2793ec')\"\n",
              "              title=\"Convert this dataframe to an interactive table.\"\n",
              "              style=\"display:none;\">\n",
              "        \n",
              "  <svg xmlns=\"http://www.w3.org/2000/svg\" height=\"24px\"viewBox=\"0 0 24 24\"\n",
              "       width=\"24px\">\n",
              "    <path d=\"M0 0h24v24H0V0z\" fill=\"none\"/>\n",
              "    <path d=\"M18.56 5.44l.94 2.06.94-2.06 2.06-.94-2.06-.94-.94-2.06-.94 2.06-2.06.94zm-11 1L8.5 8.5l.94-2.06 2.06-.94-2.06-.94L8.5 2.5l-.94 2.06-2.06.94zm10 10l.94 2.06.94-2.06 2.06-.94-2.06-.94-.94-2.06-.94 2.06-2.06.94z\"/><path d=\"M17.41 7.96l-1.37-1.37c-.4-.4-.92-.59-1.43-.59-.52 0-1.04.2-1.43.59L10.3 9.45l-7.72 7.72c-.78.78-.78 2.05 0 2.83L4 21.41c.39.39.9.59 1.41.59.51 0 1.02-.2 1.41-.59l7.78-7.78 2.81-2.81c.8-.78.8-2.07 0-2.86zM5.41 20L4 18.59l7.72-7.72 1.47 1.35L5.41 20z\"/>\n",
              "  </svg>\n",
              "      </button>\n",
              "      \n",
              "  <style>\n",
              "    .colab-df-container {\n",
              "      display:flex;\n",
              "      flex-wrap:wrap;\n",
              "      gap: 12px;\n",
              "    }\n",
              "\n",
              "    .colab-df-convert {\n",
              "      background-color: #E8F0FE;\n",
              "      border: none;\n",
              "      border-radius: 50%;\n",
              "      cursor: pointer;\n",
              "      display: none;\n",
              "      fill: #1967D2;\n",
              "      height: 32px;\n",
              "      padding: 0 0 0 0;\n",
              "      width: 32px;\n",
              "    }\n",
              "\n",
              "    .colab-df-convert:hover {\n",
              "      background-color: #E2EBFA;\n",
              "      box-shadow: 0px 1px 2px rgba(60, 64, 67, 0.3), 0px 1px 3px 1px rgba(60, 64, 67, 0.15);\n",
              "      fill: #174EA6;\n",
              "    }\n",
              "\n",
              "    [theme=dark] .colab-df-convert {\n",
              "      background-color: #3B4455;\n",
              "      fill: #D2E3FC;\n",
              "    }\n",
              "\n",
              "    [theme=dark] .colab-df-convert:hover {\n",
              "      background-color: #434B5C;\n",
              "      box-shadow: 0px 1px 3px 1px rgba(0, 0, 0, 0.15);\n",
              "      filter: drop-shadow(0px 1px 2px rgba(0, 0, 0, 0.3));\n",
              "      fill: #FFFFFF;\n",
              "    }\n",
              "  </style>\n",
              "\n",
              "      <script>\n",
              "        const buttonEl =\n",
              "          document.querySelector('#df-34628f84-f62a-4ed6-8f4d-60b71b2793ec button.colab-df-convert');\n",
              "        buttonEl.style.display =\n",
              "          google.colab.kernel.accessAllowed ? 'block' : 'none';\n",
              "\n",
              "        async function convertToInteractive(key) {\n",
              "          const element = document.querySelector('#df-34628f84-f62a-4ed6-8f4d-60b71b2793ec');\n",
              "          const dataTable =\n",
              "            await google.colab.kernel.invokeFunction('convertToInteractive',\n",
              "                                                     [key], {});\n",
              "          if (!dataTable) return;\n",
              "\n",
              "          const docLinkHtml = 'Like what you see? Visit the ' +\n",
              "            '<a target=\"_blank\" href=https://colab.research.google.com/notebooks/data_table.ipynb>data table notebook</a>'\n",
              "            + ' to learn more about interactive tables.';\n",
              "          element.innerHTML = '';\n",
              "          dataTable['output_type'] = 'display_data';\n",
              "          await google.colab.output.renderOutput(dataTable, element);\n",
              "          const docLink = document.createElement('div');\n",
              "          docLink.innerHTML = docLinkHtml;\n",
              "          element.appendChild(docLink);\n",
              "        }\n",
              "      </script>\n",
              "    </div>\n",
              "  </div>\n",
              "  "
            ],
            "text/plain": [
              "   Age  Patient's Years  N_positive_ax  survival_status\n",
              "0   30               64              1                1\n",
              "1   30               62              3                1\n",
              "2   30               65              0                1\n",
              "3   31               59              2                1\n",
              "4   31               65              4                1"
            ]
          },
          "metadata": {},
          "execution_count": 2
        }
      ],
      "source": [
        "# tampilkan 5 baris awal dataset dengan function head()\n",
        "df.head()"
      ]
    },
    {
      "cell_type": "code",
      "execution_count": 4,
      "metadata": {
        "colab": {
          "base_uri": "https://localhost:8080/"
        },
        "id": "-dxYNPg7dGX4",
        "outputId": "fb0328f5-2475-4ac6-ddca-b153306ddd56"
      },
      "outputs": [
        {
          "output_type": "execute_result",
          "data": {
            "text/plain": [
              "1    225\n",
              "2     81\n",
              "Name: survival_status, dtype: int64"
            ]
          },
          "metadata": {},
          "execution_count": 4
        }
      ],
      "source": [
        "# hitung jumlah masing\" data pada kolom survival_status\n",
        "df['survival_status'].value_counts()"
      ]
    },
    {
      "cell_type": "markdown",
      "metadata": {
        "id": "ZhtQkvx5mHA6"
      },
      "source": [
        "### Build Model"
      ]
    },
    {
      "cell_type": "code",
      "execution_count": 8,
      "metadata": {
        "id": "8W2amvZgdGYX"
      },
      "outputs": [],
      "source": [
        "#import library train test split dan cross val\n",
        "from sklearn.model_selection import train_test_split, cross_val_score\n",
        "\n",
        "#import library Logistic regression\n",
        "from sklearn.linear_model import LogisticRegression\n",
        "\n",
        "#import library roc auc score\n",
        "from sklearn.metrics import roc_auc_score\n",
        "\n",
        "#import library scale\n",
        "from sklearn.preprocessing import scale\n",
        "\n",
        "#import library numpy\n",
        "import numpy as np"
      ]
    },
    {
      "cell_type": "code",
      "execution_count": 6,
      "metadata": {
        "id": "Yhyve0o8mHA7"
      },
      "outputs": [],
      "source": [
        "## pemisahan feature dan target (data target : 'survival_status')\n",
        "X = df.drop('survival_status', axis = 1)\n",
        "Xs = scale(X)\n",
        "y = df['survival_status']"
      ]
    },
    {
      "cell_type": "markdown",
      "metadata": {
        "id": "fizsvd9TmHA8"
      },
      "source": [
        "#### NO 1"
      ]
    },
    {
      "cell_type": "code",
      "execution_count": 9,
      "metadata": {
        "id": "RYZXatPrmHA8"
      },
      "outputs": [],
      "source": [
        "## pemisahan variabel test dan train dari data Xs dan y\n",
        "# test size= 25%, random state = 42, dan stratify = y\n",
        "X_train, X_test, y_train, y_test = train_test_split(Xs, y, test_size=0.25, random_state=42)"
      ]
    },
    {
      "cell_type": "code",
      "execution_count": 10,
      "metadata": {
        "id": "fYK7ex0LmHA9"
      },
      "outputs": [],
      "source": [
        "## pembuatan objek model\n",
        "model_logReg = LogisticRegression(random_state = 42)\n",
        "\n",
        "## latih model\n",
        "model_logReg.fit(X_train, y_train)\n",
        "\n",
        "## prediksi.\n",
        "y_predict = model_logReg.predict(X_test)"
      ]
    },
    {
      "cell_type": "markdown",
      "metadata": {
        "id": "25jJ1W14mHA-"
      },
      "source": [
        "#### NO 2"
      ]
    },
    {
      "cell_type": "code",
      "execution_count": 11,
      "metadata": {
        "colab": {
          "base_uri": "https://localhost:8080/"
        },
        "outputId": "73400b7f-d6b7-4f12-e713-fbd8a7a20ec1",
        "id": "L7s8p8TbmHA_"
      },
      "outputs": [
        {
          "output_type": "stream",
          "name": "stdout",
          "text": [
            "[0.44021739 0.80978261 0.67391304 0.69021739 0.70380435 0.79292929\n",
            " 0.875      0.62784091 0.67613636 0.61363636]\n"
          ]
        }
      ],
      "source": [
        "## menghitung cross_val_score dengan scoring = 'roc_auc'\n",
        "## parameter cv = 10 \n",
        "score = cross_val_score(model_logReg, X, y, scoring = 'roc_auc', cv =10)\n",
        "print(score)"
      ]
    },
    {
      "cell_type": "markdown",
      "metadata": {
        "id": "MWQdiQL5mHBB"
      },
      "source": [
        "#### NO 3"
      ]
    },
    {
      "cell_type": "code",
      "execution_count": 14,
      "metadata": {
        "colab": {
          "base_uri": "https://localhost:8080/"
        },
        "id": "LedKNcvNeQqt",
        "outputId": "22fdda8d-b1d1-4539-8f4f-e6a57fd0379b"
      },
      "outputs": [
        {
          "output_type": "execute_result",
          "data": {
            "text/plain": [
              "0.5681818181818182"
            ]
          },
          "metadata": {},
          "execution_count": 14
        }
      ],
      "source": [
        "# cetak rata-rata nilai rata-rata auc score\n",
        "roc_auc_score(y_test,y_predict).mean()"
      ]
    },
    {
      "cell_type": "markdown",
      "metadata": {
        "id": "vtwsfylbmHBD"
      },
      "source": [
        "#### NO 4"
      ]
    },
    {
      "cell_type": "code",
      "execution_count": 15,
      "metadata": {
        "colab": {
          "base_uri": "https://localhost:8080/"
        },
        "id": "sgIgntc9eTh5",
        "outputId": "cbf0c114-ea16-43b7-eab5-128c62a645f0",
        "scrolled": true
      },
      "outputs": [
        {
          "output_type": "execute_result",
          "data": {
            "text/plain": [
              "0.5681818181818182"
            ]
          },
          "metadata": {},
          "execution_count": 15
        }
      ],
      "source": [
        "# Prediksi data test dengan model yang telah kalian buat \n",
        "auc_score = roc_auc_score(y_test, y_predict)\n",
        "auc_score"
      ]
    },
    {
      "cell_type": "markdown",
      "metadata": {
        "id": "lr7WHfAjmHBE"
      },
      "source": [
        "#### NO 5"
      ]
    },
    {
      "cell_type": "code",
      "execution_count": 16,
      "metadata": {
        "id": "e23bVSGteUQV"
      },
      "outputs": [],
      "source": [
        "# import library confusion matrix dan classification report\n",
        "from sklearn.metrics import confusion_matrix\n",
        "from sklearn.metrics import classification_report"
      ]
    },
    {
      "cell_type": "code",
      "execution_count": 17,
      "metadata": {
        "colab": {
          "base_uri": "https://localhost:8080/"
        },
        "id": "rDqvvhZUeai_",
        "outputId": "c792d019-ffae-48ef-b67d-24afe66ba623"
      },
      "outputs": [
        {
          "output_type": "execute_result",
          "data": {
            "text/plain": [
              "array([[50,  5],\n",
              "       [17,  5]])"
            ]
          },
          "metadata": {},
          "execution_count": 17
        }
      ],
      "source": [
        "# apply confusion matrix dan cetak nilai confusion matrix\n",
        "cm = confusion_matrix(y_test, y_predict, labels = (1,2))\n",
        "cm"
      ]
    },
    {
      "cell_type": "code",
      "execution_count": 18,
      "metadata": {
        "colab": {
          "base_uri": "https://localhost:8080/",
          "height": 324
        },
        "id": "lBFQg_ekmHBG",
        "outputId": "aae6a6a8-43b3-42ba-c417-c38c1d1903ef"
      },
      "outputs": [
        {
          "output_type": "display_data",
          "data": {
            "image/png": "[encoded data removed]",
            "text/plain": [
              "<Figure size 576x360 with 2 Axes>"
            ]
          },
          "metadata": {
            "needs_background": "light"
          }
        }
      ],
      "source": [
        "# visualisasikan nilai confusion matrix ke dalam diagram heatmap\n",
        "import seaborn as sns\n",
        "import matplotlib.pyplot as plt\n",
        "f, ax = plt.subplots(figsize=(8,5))\n",
        "sns.heatmap(confusion_matrix(y_test, y_predict), annot=True, fmt=\".0f\", ax=ax)\n",
        "plt.show()"
      ]
    },
    {
      "cell_type": "markdown",
      "metadata": {
        "id": "4ttqwtZxmHBG"
      },
      "source": [
        "#### NO 6"
      ]
    },
    {
      "cell_type": "code",
      "execution_count": 19,
      "metadata": {
        "colab": {
          "base_uri": "https://localhost:8080/"
        },
        "id": "gTrzFq28ehP1",
        "outputId": "bfc207d0-1294-4a9f-9d79-831c4cddff7d"
      },
      "outputs": [
        {
          "output_type": "stream",
          "name": "stdout",
          "text": [
            "              precision    recall  f1-score   support\n",
            "\n",
            "           1       0.75      0.91      0.82        55\n",
            "           2       0.50      0.23      0.31        22\n",
            "\n",
            "    accuracy                           0.71        77\n",
            "   macro avg       0.62      0.57      0.57        77\n",
            "weighted avg       0.68      0.71      0.67        77\n",
            "\n"
          ]
        }
      ],
      "source": [
        "# cetak nilai classification_report\n",
        "print(classification_report(y_test, y_predict))"
      ]
    },
    {
      "cell_type": "markdown",
      "metadata": {
        "id": "7lvyaMiUmHBH"
      },
      "source": [
        "#### NO 7"
      ]
    },
    {
      "cell_type": "markdown",
      "metadata": {
        "id": "1rm8SxlrenkO"
      },
      "source": [
        "- Bagaimana hasil confusion matrix dari hasil prediksi tersebut? <br>\n",
        " nilai TP: 50\n",
        " nilai FP: 5\n",
        " nilai FN: 17 \n",
        " nilai TN: 5\n",
        " \n",
        " \n",
        "- Bagaimana classification report dari hasil prediksi tersebut? <br>\n",
        " menghasilkan akurasi sebesar 0.71\n",
        " \n",
        " \n",
        "- Seberapa baik model anda dalam memprediksi seorang pasien mempunyai status positive? dari hasil classification_report diatas <br>\n",
        " cukup baik dengan hasil precision dan recall pada classification report\n",
        " \n",
        " \n",
        "- Seberapa baik model anda dalam memprediksi seorang pasien mempunyai status negatif? dari hasil classification_report diatas<br>\n",
        " cukup baik dengan hasil precision dan recall pada classification report"
      ]
    },
    {
      "cell_type": "markdown",
      "metadata": {
        "id": "I6v_dgoN-7wL"
      },
      "source": [
        "---"
      ]
    },
    {
      "cell_type": "markdown",
      "metadata": {
        "id": "teekoyIw--g2"
      },
      "source": [
        "<h1> Soal 3: Pemahaman Tentang Model Selection</h1>\n",
        "\n",
        "Jelaskan dengan bahasa sendiri!\n",
        "\n",
        "1. Apa itu Bias dan Variance?\n",
        "2. Apa itu Overfitting dan Underfitting?\n",
        "3. Apa yang bisa kita lakukan untuk mengatur kompleksitas dari model?\n",
        "4. Bagaimana model yang baik?\n",
        "5. Kapan kita menggunakan GridSearchcv dan kapan menggunakan RandomizedSearchCV?"
      ]
    },
    {
      "cell_type": "markdown",
      "metadata": {
        "id": "4a1l4RNf_FcU"
      },
      "source": [
        "\n",
        " <p style=\"color:#FF0000\">Jawab</p>\n",
        "\n",
        "1. Bias adalah perbedaan antara rata rata hasil prediksi dari model\n",
        "   Variance adalah variabel dari prediksi model untuk data tertentu yang memberikan kita informasi tentang perserbaran data.\n",
        "2. Overfitting adalah suatu keadaan dimana data yang digunakan untuk pelatihan itu adalah yang terbaik\n",
        "   Underfitting adalah keadaan dimana model pelatihan data yang dibuat tidak mewakilkan keseluruhan data yang akan digunakan nantinya\n",
        "3. dapat dengan menggunakan Overfitting dan Underfitting\n",
        "4. model yang mampu menjelaskan data yang ada.Biasanya kriteria ini dikaji melalui uji keserasian. \n",
        "   Salah satu ukuran yang sering digunakan untuk mendukung kriteria ini adalah koefisien determinasi (R2) \n",
        "   khususnya bila peneliti menggunakan analisis regresi linier.\n",
        "5. GridSearchcv pada saat ingin memperbaiki dan mengevaluasi model dengan mencoba semua kemungkinan kombinasi parameter yang diinginkan dan menemukan yang terbaik\n",
        "   RandomizedSearchCV ketika memiliki banyak parameter untuk dicoba dan waktu pelatihannya sangat lama.\n"
      ]
    },
    {
      "cell_type": "markdown",
      "metadata": {
        "id": "Svj_cgxF_IZv"
      },
      "source": [
        "---"
      ]
    },
    {
      "cell_type": "markdown",
      "metadata": {
        "id": "Hkh-PeRL_LZp"
      },
      "source": [
        "<h1> Soal 4: Aplikasi Model Selection</h1>\n",
        "\n",
        "1. Bagi kedua data berikut ini menjadi data training dan data test dengan test_size=0.25.\n",
        "2. Import library KNN dan GridSearchCV.\n",
        "3. Gunakan algoritma KNN dan fungsi GridSearchCV untuk hyperparameter tuning dan model selection.\n",
        "4. jumlah fold bebas!, gunakan scoring 'roc_auc'\n",
        "5. Definisikan kombinasi hyperparameter untuk model selection dengan GridSearchCV. kombinasi Hyperparameter bebas, baca lagi dokumentasi KNN di link berikut https://scikit-learn.org/stable/modules/generated/sklearn.neighbors.KNeighborsClassifier.html untuk memahami lagi jenis2 hyperparameter di algorithma KNN.\n",
        "6. Latih model terhadap data training.\n",
        "7. Apa hyperparameter terbaik untuk kombinasi hyperparameter kalian?\n",
        "8. Berapa score validasi terbaik dari model tersebut?\n",
        "9. Prediksi probabilitasi output dari model yang telah di buat terhadap data test. note : gunakan method .predict_proba() untuk menghasilkan output probabilitas\n",
        "\n",
        "10. Berapa nilai score roc_auc untuk data test? (y_predict)\n",
        "11. Apakah model anda termasuk baik, overtting, atau underfitting?\n"
      ]
    },
    {
      "cell_type": "markdown",
      "metadata": {
        "id": "4uCB7FJUmHBL"
      },
      "source": [
        "### Load Dataset "
      ]
    },
    {
      "cell_type": "code",
      "execution_count": 20,
      "metadata": {
        "id": "A6ANox3BmHBY"
      },
      "outputs": [],
      "source": [
        "# import library pandas\n",
        "import pandas as pd\n",
        "\n",
        "# Load Dataset\n",
        "url = 'https://raw.githubusercontent.com/jbrownlee/Datasets/master/haberman.csv'\n",
        "list_cols = ['Age', \"Patient's Years\", \"N_positive_ax\", \"survival_status\"]\n",
        "df2 = pd.read_csv(url, names=list_cols)"
      ]
    },
    {
      "cell_type": "code",
      "execution_count": 21,
      "metadata": {
        "colab": {
          "base_uri": "https://localhost:8080/",
          "height": 206
        },
        "id": "qb-AD43R_V_d",
        "outputId": "86d14cdc-de2e-4b43-ebd8-0fab2e2f7f22"
      },
      "outputs": [
        {
          "output_type": "execute_result",
          "data": {
            "text/html": [
              "\n",
              "  <div id=\"df-a4a970ce-6607-405b-af26-fce095d0bb40\">\n",
              "    <div class=\"colab-df-container\">\n",
              "      <div>\n",
              "<style scoped>\n",
              "    .dataframe tbody tr th:only-of-type {\n",
              "        vertical-align: middle;\n",
              "    }\n",
              "\n",
              "    .dataframe tbody tr th {\n",
              "        vertical-align: top;\n",
              "    }\n",
              "\n",
              "    .dataframe thead th {\n",
              "        text-align: right;\n",
              "    }\n",
              "</style>\n",
              "<table border=\"1\" class=\"dataframe\">\n",
              "  <thead>\n",
              "    <tr style=\"text-align: right;\">\n",
              "      <th></th>\n",
              "      <th>Age</th>\n",
              "      <th>Patient's Years</th>\n",
              "      <th>N_positive_ax</th>\n",
              "      <th>survival_status</th>\n",
              "    </tr>\n",
              "  </thead>\n",
              "  <tbody>\n",
              "    <tr>\n",
              "      <th>0</th>\n",
              "      <td>30</td>\n",
              "      <td>64</td>\n",
              "      <td>1</td>\n",
              "      <td>1</td>\n",
              "    </tr>\n",
              "    <tr>\n",
              "      <th>1</th>\n",
              "      <td>30</td>\n",
              "      <td>62</td>\n",
              "      <td>3</td>\n",
              "      <td>1</td>\n",
              "    </tr>\n",
              "    <tr>\n",
              "      <th>2</th>\n",
              "      <td>30</td>\n",
              "      <td>65</td>\n",
              "      <td>0</td>\n",
              "      <td>1</td>\n",
              "    </tr>\n",
              "    <tr>\n",
              "      <th>3</th>\n",
              "      <td>31</td>\n",
              "      <td>59</td>\n",
              "      <td>2</td>\n",
              "      <td>1</td>\n",
              "    </tr>\n",
              "    <tr>\n",
              "      <th>4</th>\n",
              "      <td>31</td>\n",
              "      <td>65</td>\n",
              "      <td>4</td>\n",
              "      <td>1</td>\n",
              "    </tr>\n",
              "  </tbody>\n",
              "</table>\n",
              "</div>\n",
              "      <button class=\"colab-df-convert\" onclick=\"convertToInteractive('df-a4a970ce-6607-405b-af26-fce095d0bb40')\"\n",
              "              title=\"Convert this dataframe to an interactive table.\"\n",
              "              style=\"display:none;\">\n",
              "        \n",
              "  <svg xmlns=\"http://www.w3.org/2000/svg\" height=\"24px\"viewBox=\"0 0 24 24\"\n",
              "       width=\"24px\">\n",
              "    <path d=\"M0 0h24v24H0V0z\" fill=\"none\"/>\n",
              "    <path d=\"M18.56 5.44l.94 2.06.94-2.06 2.06-.94-2.06-.94-.94-2.06-.94 2.06-2.06.94zm-11 1L8.5 8.5l.94-2.06 2.06-.94-2.06-.94L8.5 2.5l-.94 2.06-2.06.94zm10 10l.94 2.06.94-2.06 2.06-.94-2.06-.94-.94-2.06-.94 2.06-2.06.94z\"/><path d=\"M17.41 7.96l-1.37-1.37c-.4-.4-.92-.59-1.43-.59-.52 0-1.04.2-1.43.59L10.3 9.45l-7.72 7.72c-.78.78-.78 2.05 0 2.83L4 21.41c.39.39.9.59 1.41.59.51 0 1.02-.2 1.41-.59l7.78-7.78 2.81-2.81c.8-.78.8-2.07 0-2.86zM5.41 20L4 18.59l7.72-7.72 1.47 1.35L5.41 20z\"/>\n",
              "  </svg>\n",
              "      </button>\n",
              "      \n",
              "  <style>\n",
              "    .colab-df-container {\n",
              "      display:flex;\n",
              "      flex-wrap:wrap;\n",
              "      gap: 12px;\n",
              "    }\n",
              "\n",
              "    .colab-df-convert {\n",
              "      background-color: #E8F0FE;\n",
              "      border: none;\n",
              "      border-radius: 50%;\n",
              "      cursor: pointer;\n",
              "      display: none;\n",
              "      fill: #1967D2;\n",
              "      height: 32px;\n",
              "      padding: 0 0 0 0;\n",
              "      width: 32px;\n",
              "    }\n",
              "\n",
              "    .colab-df-convert:hover {\n",
              "      background-color: #E2EBFA;\n",
              "      box-shadow: 0px 1px 2px rgba(60, 64, 67, 0.3), 0px 1px 3px 1px rgba(60, 64, 67, 0.15);\n",
              "      fill: #174EA6;\n",
              "    }\n",
              "\n",
              "    [theme=dark] .colab-df-convert {\n",
              "      background-color: #3B4455;\n",
              "      fill: #D2E3FC;\n",
              "    }\n",
              "\n",
              "    [theme=dark] .colab-df-convert:hover {\n",
              "      background-color: #434B5C;\n",
              "      box-shadow: 0px 1px 3px 1px rgba(0, 0, 0, 0.15);\n",
              "      filter: drop-shadow(0px 1px 2px rgba(0, 0, 0, 0.3));\n",
              "      fill: #FFFFFF;\n",
              "    }\n",
              "  </style>\n",
              "\n",
              "      <script>\n",
              "        const buttonEl =\n",
              "          document.querySelector('#df-a4a970ce-6607-405b-af26-fce095d0bb40 button.colab-df-convert');\n",
              "        buttonEl.style.display =\n",
              "          google.colab.kernel.accessAllowed ? 'block' : 'none';\n",
              "\n",
              "        async function convertToInteractive(key) {\n",
              "          const element = document.querySelector('#df-a4a970ce-6607-405b-af26-fce095d0bb40');\n",
              "          const dataTable =\n",
              "            await google.colab.kernel.invokeFunction('convertToInteractive',\n",
              "                                                     [key], {});\n",
              "          if (!dataTable) return;\n",
              "\n",
              "          const docLinkHtml = 'Like what you see? Visit the ' +\n",
              "            '<a target=\"_blank\" href=https://colab.research.google.com/notebooks/data_table.ipynb>data table notebook</a>'\n",
              "            + ' to learn more about interactive tables.';\n",
              "          element.innerHTML = '';\n",
              "          dataTable['output_type'] = 'display_data';\n",
              "          await google.colab.output.renderOutput(dataTable, element);\n",
              "          const docLink = document.createElement('div');\n",
              "          docLink.innerHTML = docLinkHtml;\n",
              "          element.appendChild(docLink);\n",
              "        }\n",
              "      </script>\n",
              "    </div>\n",
              "  </div>\n",
              "  "
            ],
            "text/plain": [
              "   Age  Patient's Years  N_positive_ax  survival_status\n",
              "0   30               64              1                1\n",
              "1   30               62              3                1\n",
              "2   30               65              0                1\n",
              "3   31               59              2                1\n",
              "4   31               65              4                1"
            ]
          },
          "metadata": {},
          "execution_count": 21
        }
      ],
      "source": [
        "# tampilkan 5 baris awal dataset dengan function head()\n",
        "df2.head()"
      ]
    },
    {
      "cell_type": "code",
      "execution_count": 22,
      "metadata": {
        "colab": {
          "base_uri": "https://localhost:8080/"
        },
        "id": "znc1dEGO_XU2",
        "outputId": "79c11abe-108c-4a77-9244-bab243e0935b"
      },
      "outputs": [
        {
          "output_type": "execute_result",
          "data": {
            "text/plain": [
              "1    225\n",
              "2     81\n",
              "Name: survival_status, dtype: int64"
            ]
          },
          "metadata": {},
          "execution_count": 22
        }
      ],
      "source": [
        "# hitung jumlah masing\" data pada kolom survival_status\n",
        "df2['survival_status'].value_counts()"
      ]
    },
    {
      "cell_type": "markdown",
      "metadata": {
        "id": "p63e2sJXmHBb"
      },
      "source": [
        "#### NO 1"
      ]
    },
    {
      "cell_type": "code",
      "execution_count": 23,
      "metadata": {
        "id": "RZmjEbcie33S"
      },
      "outputs": [],
      "source": [
        "# 1. pembagian variabel train dan test\n",
        "# test size= 25%, random state = 42, dan stratify = y\n",
        "X = df2.drop('survival_status', axis = 1)\n",
        "y = df2['survival_status']\n",
        "\n",
        "X_train, X_test, y_train, y_test = train_test_split(X, y, test_size=0.25, random_state=42)"
      ]
    },
    {
      "cell_type": "markdown",
      "metadata": {
        "id": "ESV-r8ZFmHBb"
      },
      "source": [
        "#### NO 2"
      ]
    },
    {
      "cell_type": "code",
      "execution_count": 24,
      "metadata": {
        "id": "3uWlk8JLfFVE"
      },
      "outputs": [],
      "source": [
        "# 2. import library KNN dan GridSearchCv\n",
        "from sklearn.neighbors import KNeighborsClassifier\n",
        "from sklearn.model_selection import GridSearchCV"
      ]
    },
    {
      "cell_type": "markdown",
      "metadata": {
        "id": "EvDlJ3pamHBc"
      },
      "source": [
        "#### NO 3 - 6"
      ]
    },
    {
      "cell_type": "code",
      "execution_count": 25,
      "metadata": {
        "colab": {
          "base_uri": "https://localhost:8080/"
        },
        "id": "VNqpbE6cfJO_",
        "outputId": "009a62a7-c5e6-426a-e7e8-385882534e43"
      },
      "outputs": [
        {
          "output_type": "execute_result",
          "data": {
            "text/plain": [
              "GridSearchCV(cv=10, estimator=KNeighborsClassifier(),\n",
              "             param_grid={'n_neighbors': array([ 3,  4,  5,  6,  7,  8,  9, 10, 11, 12, 13, 14, 15, 16, 17, 18, 19,\n",
              "       20, 21, 22, 23, 24, 25, 26, 27, 28, 29, 30, 31, 32, 33, 34, 35, 36,\n",
              "       37, 38, 39, 40, 41, 42, 43, 44, 45, 46, 47, 48, 49, 50]),\n",
              "                         'weights': ['uniform', 'distance']},\n",
              "             scoring='roc_auc')"
            ]
          },
          "metadata": {},
          "execution_count": 25
        }
      ],
      "source": [
        "# 3. tuning hyperparameter dengan GridSearchCV (parameter cv=10)\n",
        "## build model KNN\n",
        "model_knn = KNeighborsClassifier()\n",
        "param_grid = {'n_neighbors' : np.arange(3,51), 'weights' : ['uniform','distance']}\n",
        "gscv = GridSearchCV(model_knn, param_grid, scoring='roc_auc', cv = 10)\n",
        "gscv.fit(X_train, y_train)"
      ]
    },
    {
      "cell_type": "markdown",
      "metadata": {
        "id": "uEuQuFiEmHBc"
      },
      "source": [
        "#### NO 7"
      ]
    },
    {
      "cell_type": "code",
      "execution_count": null,
      "metadata": {
        "colab": {
          "base_uri": "https://localhost:8080/",
          "height": 34
        },
        "id": "MSfTj3VGfL6R",
        "outputId": "50b6c395-4efc-4399-df49-3684fbfd10bb"
      },
      "outputs": [
        {
          "data": {
            "text/plain": [
              "{'n_neighbors': 44, 'weights': 'distance'}"
            ]
          },
          "execution_count": 149,
          "metadata": {},
          "output_type": "execute_result"
        }
      ],
      "source": [
        "# 7. parameter terbaik\n",
        "gscv.best_params_"
      ]
    },
    {
      "cell_type": "markdown",
      "metadata": {
        "id": "BGTj1N8EmHBd"
      },
      "source": [
        "#### NO 8"
      ]
    },
    {
      "cell_type": "code",
      "execution_count": 27,
      "metadata": {
        "colab": {
          "base_uri": "https://localhost:8080/"
        },
        "id": "xhqfzxUffQBY",
        "outputId": "4776eda0-4317-426f-e03c-cac65777595d"
      },
      "outputs": [
        {
          "output_type": "execute_result",
          "data": {
            "text/plain": [
              "0.7268627450980393"
            ]
          },
          "metadata": {},
          "execution_count": 27
        }
      ],
      "source": [
        "# 8. score validasi terbaik\n",
        "gscv.best_score_"
      ]
    },
    {
      "cell_type": "markdown",
      "metadata": {
        "id": "LfQ7m47umHBd"
      },
      "source": [
        "#### NO 9"
      ]
    },
    {
      "cell_type": "code",
      "execution_count": 28,
      "metadata": {
        "id": "X5tQh4IufRpF",
        "scrolled": true,
        "colab": {
          "base_uri": "https://localhost:8080/"
        },
        "outputId": "bc886146-001c-4437-c7d3-31672f3f85b8"
      },
      "outputs": [
        {
          "output_type": "execute_result",
          "data": {
            "text/plain": [
              "array([[0.9 , 0.1 ],\n",
              "       [0.95, 0.05],\n",
              "       [0.8 , 0.2 ],\n",
              "       [0.95, 0.05],\n",
              "       [0.7 , 0.3 ],\n",
              "       [0.45, 0.55],\n",
              "       [0.85, 0.15],\n",
              "       [0.75, 0.25],\n",
              "       [0.4 , 0.6 ],\n",
              "       [0.8 , 0.2 ],\n",
              "       [0.9 , 0.1 ],\n",
              "       [0.75, 0.25],\n",
              "       [0.7 , 0.3 ],\n",
              "       [0.35, 0.65],\n",
              "       [0.9 , 0.1 ],\n",
              "       [0.9 , 0.1 ],\n",
              "       [0.9 , 0.1 ],\n",
              "       [0.9 , 0.1 ],\n",
              "       [0.5 , 0.5 ],\n",
              "       [0.8 , 0.2 ],\n",
              "       [0.8 , 0.2 ],\n",
              "       [0.9 , 0.1 ],\n",
              "       [0.85, 0.15],\n",
              "       [0.95, 0.05],\n",
              "       [0.75, 0.25],\n",
              "       [0.9 , 0.1 ],\n",
              "       [1.  , 0.  ],\n",
              "       [0.8 , 0.2 ],\n",
              "       [0.65, 0.35],\n",
              "       [0.65, 0.35],\n",
              "       [0.95, 0.05],\n",
              "       [0.45, 0.55],\n",
              "       [0.85, 0.15],\n",
              "       [0.75, 0.25],\n",
              "       [0.85, 0.15],\n",
              "       [0.7 , 0.3 ],\n",
              "       [0.7 , 0.3 ],\n",
              "       [0.75, 0.25],\n",
              "       [0.55, 0.45],\n",
              "       [0.9 , 0.1 ],\n",
              "       [0.4 , 0.6 ],\n",
              "       [0.7 , 0.3 ],\n",
              "       [0.4 , 0.6 ],\n",
              "       [0.85, 0.15],\n",
              "       [1.  , 0.  ],\n",
              "       [0.8 , 0.2 ],\n",
              "       [0.9 , 0.1 ],\n",
              "       [0.7 , 0.3 ],\n",
              "       [0.85, 0.15],\n",
              "       [0.8 , 0.2 ],\n",
              "       [0.4 , 0.6 ],\n",
              "       [0.85, 0.15],\n",
              "       [0.85, 0.15],\n",
              "       [0.75, 0.25],\n",
              "       [1.  , 0.  ],\n",
              "       [0.45, 0.55],\n",
              "       [0.65, 0.35],\n",
              "       [0.8 , 0.2 ],\n",
              "       [0.65, 0.35],\n",
              "       [1.  , 0.  ],\n",
              "       [0.9 , 0.1 ],\n",
              "       [0.65, 0.35],\n",
              "       [0.75, 0.25],\n",
              "       [0.75, 0.25],\n",
              "       [0.45, 0.55],\n",
              "       [0.9 , 0.1 ],\n",
              "       [0.5 , 0.5 ],\n",
              "       [0.75, 0.25],\n",
              "       [1.  , 0.  ],\n",
              "       [0.55, 0.45],\n",
              "       [0.75, 0.25],\n",
              "       [0.7 , 0.3 ],\n",
              "       [0.4 , 0.6 ],\n",
              "       [0.8 , 0.2 ],\n",
              "       [0.85, 0.15],\n",
              "       [0.9 , 0.1 ],\n",
              "       [0.95, 0.05]])"
            ]
          },
          "metadata": {},
          "execution_count": 28
        }
      ],
      "source": [
        "# 9. prediksikan probabilitas masing-masing data test\n",
        "y_predict = gscv.predict_proba(X_test)\n",
        "y_predict"
      ]
    },
    {
      "cell_type": "code",
      "execution_count": 29,
      "metadata": {
        "colab": {
          "base_uri": "https://localhost:8080/"
        },
        "id": "vi5HeGZLmHBe",
        "outputId": "d801be02-8557-4b26-93af-c48941a7fcd3"
      },
      "outputs": [
        {
          "output_type": "execute_result",
          "data": {
            "text/plain": [
              "0.5"
            ]
          },
          "metadata": {},
          "execution_count": 29
        }
      ],
      "source": [
        "# nilai rata-rata probabilitas data test\n",
        "y_predict.mean()"
      ]
    },
    {
      "cell_type": "markdown",
      "metadata": {
        "id": "C2PX4yykmHBe"
      },
      "source": [
        "#### NO 10"
      ]
    },
    {
      "cell_type": "code",
      "execution_count": 37,
      "metadata": {
        "colab": {
          "base_uri": "https://localhost:8080/"
        },
        "id": "sUMrtvGUfWcn",
        "outputId": "aaf4fac6-99fa-4757-fb75-35bc75a81ce5"
      },
      "outputs": [
        {
          "output_type": "stream",
          "name": "stdout",
          "text": [
            "[0.1  0.05 0.2  0.05 0.3  0.55 0.15 0.25 0.6  0.2  0.1  0.25 0.3  0.65\n",
            " 0.1  0.1  0.1  0.1  0.5  0.2  0.2  0.1  0.15 0.05 0.25 0.1  0.   0.2\n",
            " 0.35 0.35 0.05 0.55 0.15 0.25 0.15 0.3  0.3  0.25 0.45 0.1  0.6  0.3\n",
            " 0.6  0.15 0.   0.2  0.1  0.3  0.15 0.2  0.6  0.15 0.15 0.25 0.   0.55\n",
            " 0.35 0.2  0.35 0.   0.1  0.35 0.25 0.25 0.55 0.1  0.5  0.25 0.   0.45\n",
            " 0.25 0.3  0.6  0.2  0.15 0.1  0.05]\n"
          ]
        }
      ],
      "source": [
        "# 10. nilai score roc_auc \n",
        "kurang_5th = y_predict[:,1]\n",
        "print(kurang_5th)"
      ]
    },
    {
      "cell_type": "markdown",
      "metadata": {
        "id": "Kr-3YvUmmHBf"
      },
      "source": [
        "#### NO 11 "
      ]
    },
    {
      "cell_type": "markdown",
      "metadata": {
        "id": "mHjZmxFyfejG"
      },
      "source": [
        " <p style=\"color:#FF0000\">Jawab</p>\n"
      ]
    },
    {
      "cell_type": "markdown",
      "metadata": {
        "id": "v065e6cvmHBg"
      },
      "source": [
        "<h1> Soal 5: </h1>\n",
        "\n",
        "\n",
        "1. Ulangi tahap di atas (soal 4, no 1 - 8) namun kali ini menggunakan algoritma DecisionTreeClassifier dan kalian bisa menggunakan RandomizedSearchCV apabila process training lama. pelajari algoritma DecisionTreeClassifier di linkberikut: https://scikit-learn.org/stable/modules/generated/sklearn.tree.DecisionTreeClassifier.html?highlight=decisiontreeclassifier#sklearn.tree.DecisionTreeClassifier\n",
        "2. Bandingkan scorenya dengan Algoritma KNN, mana yang lebih baik?\n",
        "\n",
        "Note : Data Science adalah experiment, sangat di dimungkinkan memerlukan beberapa kali percobaan untuk mendapatkan hasil yang terbaik! Happy Coding :)"
      ]
    },
    {
      "cell_type": "markdown",
      "metadata": {
        "id": "tVFLPmj3mHBh"
      },
      "source": [
        "#### NO 1"
      ]
    },
    {
      "cell_type": "code",
      "execution_count": 30,
      "metadata": {
        "id": "E4E6YlWOfYwm"
      },
      "outputs": [],
      "source": [
        "# 1. import algoritma DecisionTreeClassifier\n",
        "from sklearn.tree import DecisionTreeClassifier"
      ]
    },
    {
      "cell_type": "code",
      "execution_count": 32,
      "metadata": {
        "colab": {
          "base_uri": "https://localhost:8080/"
        },
        "id": "n6AOPaK8fo6e",
        "outputId": "667b6fea-ff8e-4ca4-d440-5c026c71c859"
      },
      "outputs": [
        {
          "output_type": "execute_result",
          "data": {
            "text/plain": [
              "GridSearchCV(cv=10, estimator=DecisionTreeClassifier(),\n",
              "             param_grid={'criterion': ['entropy', 'gini'],\n",
              "                         'min_samples_split': array([ 2,  3,  4,  5,  6,  7,  8,  9, 10, 11, 12, 13, 14, 15, 16, 17, 18,\n",
              "       19, 20, 21, 22, 23, 24, 25, 26, 27, 28, 29, 30, 31, 32, 33, 34, 35,\n",
              "       36, 37, 38, 39, 40, 41, 42, 43, 44, 45, 46, 47, 48, 49]),\n",
              "                         'splitter': ['best', 'random']},\n",
              "             scoring='roc_auc')"
            ]
          },
          "metadata": {},
          "execution_count": 32
        }
      ],
      "source": [
        "# Build model decision tree classifier \n",
        "model_tree = DecisionTreeClassifier()\n",
        "params = {'criterion' : ['entropy','gini'], 'splitter' : ['best', 'random'],\n",
        "         'min_samples_split' : np.arange(2,50)}\n",
        "gscv = GridSearchCV(model_tree, param_grid = params, cv = 10, scoring = 'roc_auc')\n",
        "gscv.fit(X_train, y_train)"
      ]
    },
    {
      "cell_type": "code",
      "execution_count": 33,
      "metadata": {
        "colab": {
          "base_uri": "https://localhost:8080/"
        },
        "id": "bf-n20APfrnd",
        "outputId": "99473433-f904-4601-8efd-0acf5399c30f"
      },
      "outputs": [
        {
          "output_type": "execute_result",
          "data": {
            "text/plain": [
              "{'criterion': 'gini', 'min_samples_split': 28, 'splitter': 'best'}"
            ]
          },
          "metadata": {},
          "execution_count": 33
        }
      ],
      "source": [
        "# parameter terbaik\n",
        "gscv.best_params_"
      ]
    },
    {
      "cell_type": "code",
      "execution_count": 34,
      "metadata": {
        "colab": {
          "base_uri": "https://localhost:8080/"
        },
        "id": "oghdg_0yfx7l",
        "outputId": "8924ae36-d352-4b77-d45f-017edd423a36"
      },
      "outputs": [
        {
          "output_type": "execute_result",
          "data": {
            "text/plain": [
              "0.7336274509803922"
            ]
          },
          "metadata": {},
          "execution_count": 34
        }
      ],
      "source": [
        "# score validasi terbaik\n",
        "gscv.best_score_"
      ]
    },
    {
      "cell_type": "markdown",
      "metadata": {
        "id": "rbpkJO52mHBj"
      },
      "source": [
        "#### NO 2"
      ]
    },
    {
      "cell_type": "markdown",
      "metadata": {
        "id": "mF4C599vf5c-"
      },
      "source": [
        " <p style=\"color:#FF0000\">Jawab</p>\n",
        "1. Algoritma Decision Tree memiliki score validasi yang lebih baik daripada algoritma KNN"
      ]
    }
  ],
  "metadata": {
    "colab": {
      "collapsed_sections": [],
      "name": "[SOAL] Pertemuan 16_Tugas Mandiri.ipynb",
      "provenance": []
    },
    "kernelspec": {
      "display_name": "Python 3",
      "language": "python",
      "name": "python3"
    },
    "language_info": {
      "codemirror_mode": {
        "name": "ipython",
        "version": 3
      },
      "file_extension": ".py",
      "mimetype": "text/x-python",
      "name": "python",
      "nbconvert_exporter": "python",
      "pygments_lexer": "ipython3",
      "version": "3.8.8"
    }
  },
  "nbformat": 4,
  "nbformat_minor": 0
}